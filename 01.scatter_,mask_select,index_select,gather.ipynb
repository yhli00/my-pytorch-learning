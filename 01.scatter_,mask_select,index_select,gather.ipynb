{
 "cells": [
  {
   "cell_type": "markdown",
   "source": [
    "# scatter_\n",
    "`A.scatter_(dim, index, src)`将src中的数据按照index的索引，以dim的方向填进A中"
   ],
   "metadata": {}
  },
  {
   "cell_type": "code",
   "execution_count": 3,
   "source": [
    "import torch\n",
    "x = torch.rand(2, 5)\n",
    "print(x)"
   ],
   "outputs": [
    {
     "output_type": "stream",
     "name": "stdout",
     "text": [
      "tensor([[0.4019, 0.2845, 0.1323, 0.0027, 0.6440],\n",
      "        [0.6203, 0.7380, 0.5259, 0.3852, 0.0768]])\n"
     ]
    }
   ],
   "metadata": {}
  },
  {
   "cell_type": "code",
   "execution_count": 17,
   "source": [
    "# index和src的维度大小相同\n",
    "# dim=0的情况:index[i][j]=y表示把src[i][j]填到torch.zeros(3, 5)第j列的第y行\n",
    "# 参数里写关键字参数时src必须是Tensor\n",
    "torch.zeros(3, 5).scatter_(dim=0, index=torch.tensor([[0, 1, 1, 2, 0], [1, 1, 1, 2, 0]], dtype=torch.long), src=x)"
   ],
   "outputs": [
    {
     "output_type": "execute_result",
     "data": {
      "text/plain": [
       "tensor([[0.4019, 0.0000, 0.0000, 0.0000, 0.0768],\n",
       "        [0.6203, 0.7380, 0.5259, 0.0000, 0.0000],\n",
       "        [0.0000, 0.0000, 0.0000, 0.3852, 0.0000]])"
      ]
     },
     "metadata": {},
     "execution_count": 17
    }
   ],
   "metadata": {}
  },
  {
   "cell_type": "code",
   "execution_count": 28,
   "source": [
    "# 参数里不写关键字参数时src可以是标量\n",
    "torch.zeros(2, 4).scatter_(1, torch.tensor([[0], [2]], dtype=torch.long), 999)"
   ],
   "outputs": [
    {
     "output_type": "execute_result",
     "data": {
      "text/plain": [
       "tensor([[999.,   0.,   0.,   0.],\n",
       "        [  0.,   0., 999.,   0.]])"
      ]
     },
     "metadata": {},
     "execution_count": 28
    }
   ],
   "metadata": {}
  },
  {
   "cell_type": "markdown",
   "source": [
    "scatter_一般用于one-hot编码"
   ],
   "metadata": {}
  },
  {
   "cell_type": "code",
   "execution_count": 37,
   "source": [
    "def one_hot(label, depth=10):\n",
    "    label = torch.tensor(label, dtype=torch.long).view(-1, 1)\n",
    "    return torch.zeros(label.shape[0], depth).scatter_(1, label, 1)  # 第一维是dim，最后一维是src\n",
    "\n",
    "label = [0, 1, 2, 3, 4, 5]\n",
    "print(one_hot(label, 10))"
   ],
   "outputs": [
    {
     "output_type": "stream",
     "name": "stdout",
     "text": [
      "tensor([[1., 0., 0., 0., 0., 0., 0., 0., 0., 0.],\n",
      "        [0., 1., 0., 0., 0., 0., 0., 0., 0., 0.],\n",
      "        [0., 0., 1., 0., 0., 0., 0., 0., 0., 0.],\n",
      "        [0., 0., 0., 1., 0., 0., 0., 0., 0., 0.],\n",
      "        [0., 0., 0., 0., 1., 0., 0., 0., 0., 0.],\n",
      "        [0., 0., 0., 0., 0., 1., 0., 0., 0., 0.]])\n"
     ]
    }
   ],
   "metadata": {}
  },
  {
   "cell_type": "markdown",
   "source": [
    "# torch.gather\n",
    "`torch.gather(input, dim, index)`沿dim指定的轴收集值  \n",
    "input和index必须在dim之外的轴具有相同的维度，index是需要收集的元素的下标  \n",
    "参数：\n",
    "+ `input(Tensor)`\n",
    "+ `dim(int)`\n",
    "+ `index(LongTensor)`\n",
    "\n",
    "返回值维度:与index维度相同"
   ],
   "metadata": {}
  },
  {
   "cell_type": "code",
   "execution_count": 33,
   "source": [
    "a =torch.rand(2, 4)\n",
    "index_1 = torch.tensor([[0, 0], [1, 2]], dtype=torch.long)\n",
    "index_2 = torch.tensor([[0, 1, 1]], dtype=torch.long)\n",
    "print(a)\n",
    "print(torch.gather(a, dim=1, index=index_1))\n",
    "print(torch.gather(a, dim=0, index=index_2))"
   ],
   "outputs": [
    {
     "output_type": "stream",
     "name": "stdout",
     "text": [
      "tensor([[0.9953, 0.7549, 0.6824, 0.1374],\n",
      "        [0.5895, 0.0741, 0.2023, 0.1271]])\n",
      "tensor([[0.9953, 0.9953],\n",
      "        [0.0741, 0.2023]])\n",
      "tensor([[0.9953, 0.0741, 0.2023]])\n"
     ]
    }
   ],
   "metadata": {}
  },
  {
   "cell_type": "markdown",
   "source": [
    "# torch.index_select\n",
    "`torch.index_select(input, dim, index)`返回input沿着dim的在index索引的值  \n",
    "参数：  \n",
    "+ `input(Tensor)`\n",
    "+ `dim(int)`\n",
    "+ `index(IntTensor或LongTensor)-1D`  \n"
   ],
   "metadata": {}
  },
  {
   "cell_type": "code",
   "execution_count": 35,
   "source": [
    "x = torch.randn(3, 4)\n",
    "index = torch.tensor([0, 2], dtype=torch.long)\n",
    "print(x)\n",
    "print(torch.index_select(x, dim=0, index=index))  # 选第0行和第2行\n",
    "print(torch.index_select(x, dim=1, index=index))  # 选第0列和第2列"
   ],
   "outputs": [
    {
     "output_type": "stream",
     "name": "stdout",
     "text": [
      "tensor([[ 0.2119,  0.1211, -1.8723, -0.1723],\n",
      "        [-1.1398, -0.6651, -0.3263,  0.1650],\n",
      "        [-0.4939,  0.2822, -0.4143,  0.6353]])\n",
      "tensor([[ 0.2119,  0.1211, -1.8723, -0.1723],\n",
      "        [-0.4939,  0.2822, -0.4143,  0.6353]])\n",
      "tensor([[ 0.2119, -1.8723],\n",
      "        [-1.1398, -0.3263],\n",
      "        [-0.4939, -0.4143]])\n"
     ]
    }
   ],
   "metadata": {}
  },
  {
   "cell_type": "markdown",
   "source": [
    "# torch.masked_select\n",
    "`torch.masked_select(input, mask)`根据mask中的bool值，选择input中的元素，返回1-DTensor  \n",
    "参数：\n",
    "+ `input(Tensor)`\n",
    "+ `mask(torch.bool)`"
   ],
   "metadata": {}
  },
  {
   "cell_type": "code",
   "execution_count": 47,
   "source": [
    "x = torch.randn(3, 4)\n",
    "mask = torch.tensor(x>0, dtype=torch.bool)\n",
    "print(x)\n",
    "print(mask)\n",
    "print(torch.masked_select(x, mask))\n"
   ],
   "outputs": [
    {
     "output_type": "stream",
     "name": "stdout",
     "text": [
      "tensor([[-0.9987,  0.4365,  0.6507, -0.8925],\n",
      "        [ 0.1953, -0.2860,  0.2485,  0.4445],\n",
      "        [ 0.2678,  0.1746, -0.2951, -0.9962]])\n",
      "tensor([[False,  True,  True, False],\n",
      "        [ True, False,  True,  True],\n",
      "        [ True,  True, False, False]])\n",
      "tensor([0.4365, 0.6507, 0.1953, 0.2485, 0.4445, 0.2678, 0.1746])\n"
     ]
    },
    {
     "output_type": "stream",
     "name": "stderr",
     "text": [
      "<ipython-input-47-d04bc8545e96>:3: UserWarning: To copy construct from a tensor, it is recommended to use sourceTensor.clone().detach() or sourceTensor.clone().detach().requires_grad_(True), rather than torch.tensor(sourceTensor).\n",
      "  mask = torch.tensor(xx>0, dtype=torch.bool)\n"
     ]
    }
   ],
   "metadata": {}
  },
  {
   "cell_type": "markdown",
   "source": [],
   "metadata": {}
  }
 ],
 "metadata": {
  "orig_nbformat": 4,
  "language_info": {
   "name": "python",
   "version": "3.8.8",
   "mimetype": "text/x-python",
   "codemirror_mode": {
    "name": "ipython",
    "version": 3
   },
   "pygments_lexer": "ipython3",
   "nbconvert_exporter": "python",
   "file_extension": ".py"
  },
  "kernelspec": {
   "name": "python3",
   "display_name": "Python 3.8.8 64-bit (conda)"
  },
  "interpreter": {
   "hash": "15a4ac218c62ce2dce145f1061d459e77596cd4eab36502bfa13ffde77b805c2"
  }
 },
 "nbformat": 4,
 "nbformat_minor": 2
}