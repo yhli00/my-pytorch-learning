{
 "cells": [
  {
   "cell_type": "markdown",
   "source": [
    "# + - * /\n",
    "`+ - * /`运算  \n",
    "等价于`torch.add torch.mul torch.sub torch.div`  \n",
    "元素级别的运算"
   ],
   "metadata": {}
  },
  {
   "cell_type": "code",
   "execution_count": 1,
   "source": [
    "import torch\n",
    "a = torch.ones(2, 2)\n",
    "b = torch.full((2, 2), 3)\n",
    "print(a * b)\n",
    "print(torch.mul(a, b))"
   ],
   "outputs": [
    {
     "output_type": "stream",
     "name": "stdout",
     "text": [
      "tensor([[3., 3.],\n",
      "        [3., 3.]])\n",
      "tensor([[3., 3.],\n",
      "        [3., 3.]])\n"
     ]
    }
   ],
   "metadata": {}
  },
  {
   "cell_type": "markdown",
   "source": [
    "# mm/bmm/matmul\n",
    "## torch.mm(input, mat2, *, out=None) → Tensor\n",
    "+ **作用：** 矩阵相乘\n",
    "+ **注意：** 只支持2D-tensor的矩阵相乘，并且只支持torch.float32类型\n",
    "\n",
    "## torch.bmm(input, mat2, out=None) → Tensor\n",
    "+ **作用：** 一个batch的矩阵相乘\n",
    "+ **注意：** 只支持3D-tensor的矩阵相乘，并且只支持torch.float32类型\n",
    "\n",
    "## torch.matmul(input, other, out=None) → Tensor\n",
    "+ **作用：** 高维矩阵相乘\n",
    "+ **注意：** 只支持torch.float32类型，@是其重载运算符号"
   ],
   "metadata": {}
  },
  {
   "cell_type": "code",
   "execution_count": 5,
   "source": [
    "a = torch.rand(2, 3)\n",
    "b = torch.rand(3, 10)\n",
    "print(torch.mm(a, b).shape)\n",
    "a = torch.rand(128, 2, 3)\n",
    "b = torch.rand(128, 3, 1)\n",
    "print(torch.bmm(a, b).shape)\n",
    "a = torch.rand(128, 64, 5, 4)\n",
    "b = torch.rand(128, 64, 4, 9)\n",
    "c = torch.matmul(a, b)\n",
    "d = a @ b\n",
    "print(c.shape)\n",
    "print(torch.all(c == d))  # torch.all判断是不是全是True"
   ],
   "outputs": [
    {
     "output_type": "stream",
     "name": "stdout",
     "text": [
      "torch.Size([2, 10])\n",
      "torch.Size([128, 2, 1])\n",
      "torch.Size([128, 64, 5, 9])\n",
      "tensor(True)\n"
     ]
    }
   ],
   "metadata": {}
  },
  {
   "cell_type": "markdown",
   "source": [
    "# pow/sqrt\n",
    "`Tensor.pow(n)`表示元素级别的n次方，与`**`运算等价  \n",
    "`Tensor.sqrt()`元素级别的平方根"
   ],
   "metadata": {}
  },
  {
   "cell_type": "markdown",
   "source": [
    "# exp/log\n",
    "+ `torch.exp(a)`等价于`a.exp()`，表示e的a次方\n",
    "+ `log(a)`表示ln(a)\n",
    "+ `log2(a)`、`log10(a)`"
   ],
   "metadata": {}
  },
  {
   "cell_type": "code",
   "execution_count": 7,
   "source": [
    "a = torch.ones(2, 2)\n",
    "b = a.exp()\n",
    "print(b)\n",
    "print(torch.log(b))\n",
    "print(b.log())"
   ],
   "outputs": [
    {
     "output_type": "stream",
     "name": "stdout",
     "text": [
      "tensor([[2.7183, 2.7183],\n",
      "        [2.7183, 2.7183]])\n",
      "tensor([[1., 1.],\n",
      "        [1., 1.]])\n",
      "tensor([[1., 1.],\n",
      "        [1., 1.]])\n"
     ]
    }
   ],
   "metadata": {}
  },
  {
   "cell_type": "markdown",
   "source": [
    "# floor/ceil\n",
    "+ `torch.floor(Tensor)` == `Tensor.floor()`向下取整\n",
    "+ `torch.ceil(Tensor)` == `Tensor.ceil()`向上取整"
   ],
   "metadata": {}
  },
  {
   "cell_type": "markdown",
   "source": [
    "# clamp\n",
    "## torch.clamp(input, min=None, max=None, out=None) → Tensor\n",
    "+ **作用：** 将input裁剪至[min, max]的范围内"
   ],
   "metadata": {}
  },
  {
   "cell_type": "code",
   "execution_count": 10,
   "source": [
    "a = torch.randn(3, 3)\n",
    "print(a)\n",
    "print(torch.clamp(a, min=-0.5, max=0.5))"
   ],
   "outputs": [
    {
     "output_type": "stream",
     "name": "stdout",
     "text": [
      "tensor([[-0.6658,  0.5922,  0.0430],\n",
      "        [ 0.0350, -0.3757, -0.6489],\n",
      "        [-0.4853, -1.1734,  0.0569]])\n",
      "tensor([[-0.5000,  0.5000,  0.0430],\n",
      "        [ 0.0350, -0.3757, -0.5000],\n",
      "        [-0.4853, -0.5000,  0.0569]])\n"
     ]
    }
   ],
   "metadata": {}
  },
  {
   "cell_type": "markdown",
   "source": [],
   "metadata": {}
  }
 ],
 "metadata": {
  "orig_nbformat": 4,
  "language_info": {
   "name": "python",
   "version": "3.8.8",
   "mimetype": "text/x-python",
   "codemirror_mode": {
    "name": "ipython",
    "version": 3
   },
   "pygments_lexer": "ipython3",
   "nbconvert_exporter": "python",
   "file_extension": ".py"
  },
  "kernelspec": {
   "name": "python3",
   "display_name": "Python 3.8.8 64-bit (conda)"
  },
  "interpreter": {
   "hash": "15a4ac218c62ce2dce145f1061d459e77596cd4eab36502bfa13ffde77b805c2"
  }
 },
 "nbformat": 4,
 "nbformat_minor": 2
}