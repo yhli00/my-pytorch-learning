{
 "cells": [
  {
   "cell_type": "markdown",
   "source": [
    "# cat/stack\n",
    "## torch.cat(tensors, dim=0) → Tensor\n",
    "+ **作用：** 将给定的tensor在指定维度拼接起来\n",
    "+ **注意：** 所有tensors维度必须相同（除了拼接的那一维）  \n",
    "\n",
    "## torch.stack(tensors, dim=0) → Tensor\n",
    "+ **作用：** 通过创建一个新的维度，把tensors拼接起来\n",
    "+ **注意：** 所有tensors必须有相同的维度"
   ],
   "metadata": {}
  },
  {
   "cell_type": "code",
   "execution_count": 7,
   "source": [
    "import torch\n",
    "a = torch.randn(2, 3, 4)\n",
    "b = torch.randn(2, 3, 4)\n",
    "c = torch.randn(2, 7, 4)\n",
    "print(torch.cat([a, c], dim=1).shape)\n",
    "print(torch.stack([a, b], dim=2).shape)"
   ],
   "outputs": [
    {
     "output_type": "stream",
     "name": "stdout",
     "text": [
      "torch.Size([2, 10, 4])\n",
      "torch.Size([2, 3, 2, 4])\n"
     ]
    }
   ],
   "metadata": {}
  },
  {
   "cell_type": "markdown",
   "source": [
    "# split/chunk\n",
    "## torch.split(tensor, split_size_or_sections, dim=0)\n",
    "+ **作用：** 按照**长度**分割\n",
    "+ 当`split_size_or_sections`是整数时，分割成相等大小的块(长度为split_size_or_sections)，如果除不尽，最后一个块最小\n",
    "+ 当`split_size_or_sections`是列表时，根据split_size_or_sections的大小分割成len(split_size_or_sections)个块\n",
    "\n",
    "## torch.chunk(input, chunks, dim=0) → List of Tensors\n",
    "+ **作用：** 按照**数量**分割成chunks个块，如果除不尽，最后一个块最小"
   ],
   "metadata": {}
  },
  {
   "cell_type": "code",
   "execution_count": 9,
   "source": [
    "a = torch.rand(4, 5)\n",
    "b, c = torch.split(a, 2, dim=0)\n",
    "print(b.shape, c.shape)\n",
    "b, c = torch.split(a, [1, 3], dim=0)\n",
    "print(b.shape, c.shape)\n",
    "b, c = torch.chunk(a, 2, dim=0)\n",
    "print(b.shape, c.shape)"
   ],
   "outputs": [
    {
     "output_type": "stream",
     "name": "stdout",
     "text": [
      "torch.Size([2, 5]) torch.Size([2, 5])\n",
      "torch.Size([1, 5]) torch.Size([3, 5])\n",
      "torch.Size([2, 5]) torch.Size([2, 5])\n"
     ]
    }
   ],
   "metadata": {}
  }
 ],
 "metadata": {
  "orig_nbformat": 4,
  "language_info": {
   "name": "python",
   "version": "3.8.8",
   "mimetype": "text/x-python",
   "codemirror_mode": {
    "name": "ipython",
    "version": 3
   },
   "pygments_lexer": "ipython3",
   "nbconvert_exporter": "python",
   "file_extension": ".py"
  },
  "kernelspec": {
   "name": "python3",
   "display_name": "Python 3.8.8 64-bit (conda)"
  },
  "interpreter": {
   "hash": "15a4ac218c62ce2dce145f1061d459e77596cd4eab36502bfa13ffde77b805c2"
  }
 },
 "nbformat": 4,
 "nbformat_minor": 2
}